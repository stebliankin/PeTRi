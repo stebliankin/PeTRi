{
 "cells": [
  {
   "cell_type": "markdown",
   "metadata": {},
   "source": [
    "# Supplementary Code: Stratifying dataset into \"low\" and \"high\" abundant bacteria\n",
    "## Paper: Novel Approach for Microbiome Analysis Using Bacterial Replication Rates and Causal Inference to Determine Resistome Potential\n",
    "### Vitalii Stebliankin\n",
    "\n",
    "#### Dataset: Gibson et al. (BioProject ID: PRJNA301903)\n",
    "\n",
    "We define \"high\" abundant bacteria as 25% most abundant species, and \"low\" abundant as 25% least abundant taxa."
   ]
  },
  {
   "cell_type": "code",
   "execution_count": 1,
   "metadata": {},
   "outputs": [
    {
     "name": "stdout",
     "output_type": "stream",
     "text": [
      "Total of 154 species in the dataset.\n",
      "Total number of values: 2236\n",
      "Cutoff for low relative abundance: 0.001166668\n",
      "Cutoff for high relative abundance: 0.037556946\n",
      "\n",
      "Distribution plot:\n"
     ]
    },
    {
     "name": "stderr",
     "output_type": "stream",
     "text": [
      "/Users/stebliankin/miniconda3/lib/python3.8/site-packages/seaborn/distributions.py:2551: FutureWarning: `distplot` is a deprecated function and will be removed in a future version. Please adapt your code to use either `displot` (a figure-level function with similar flexibility) or `histplot` (an axes-level function for histograms).\n",
      "  warnings.warn(msg, FutureWarning)\n"
     ]
    },
    {
     "data": {
      "image/png": "[encoded data removed]",
      "text/plain": [
       "<Figure size 432x288 with 1 Axes>"
      ]
     },
     "metadata": {
      "needs_background": "light"
     },
     "output_type": "display_data"
    }
   ],
   "source": [
    "import pandas as pd\n",
    "\n",
    "PTR_file = \"analysis-out/1-FilteringPTR/PTR_species_filtered_metadata.csv\"\n",
    "\n",
    "ptr_df = pd.read_csv(PTR_file, index_col=0)\n",
    "def get_species_list(ptr_df):\n",
    "    columns = ptr_df.columns\n",
    "    species_list=[]\n",
    "    for col in columns:\n",
    "        if \"PTR\" in col:\n",
    "            species = col.replace(\"#PTR\", \"\")\n",
    "            species_list.append(species)\n",
    "    print(\"Total of {} species in the dataset.\".format(len(species_list)))\n",
    "    return species_list\n",
    "species_list = get_species_list(ptr_df)\n",
    "import seaborn as sns\n",
    "from matplotlib import pyplot as plt\n",
    "\n",
    "all_abundance = []\n",
    "for species in species_list:\n",
    "    tmp_df =  ptr_df[ptr_df[species+\"#PTR\"].notnull()]\n",
    "    #tmp_df = ptr_df\n",
    "    tmp_df = tmp_df[tmp_df[species+\"#abundance\"]>0]\n",
    "    all_abundance += list(tmp_df[species+\"#abundance\"])\n",
    "print(\"Total number of values: {}\".format(len(all_abundance)))\n",
    "\n",
    "sns.distplot(all_abundance)\n",
    "\n",
    "\n",
    "all_abundance_sorted = sorted(all_abundance)\n",
    "low_cutoff = all_abundance_sorted[int(len(all_abundance)*0.25)]\n",
    "high_cutoff = all_abundance_sorted[int(len(all_abundance)*0.75)]\n",
    "\n",
    "# low_cutoff = 0.001\n",
    "# high_cutoff = 0.02\n",
    "\n",
    "print(\"Cutoff for low relative abundance: {}\".format(low_cutoff))\n",
    "print(\"Cutoff for high relative abundance: {}\".format(high_cutoff))\n",
    "print(\"\")\n",
    "print(\"Distribution plot:\")"
   ]
  },
  {
   "cell_type": "code",
   "execution_count": 2,
   "metadata": {},
   "outputs": [
    {
     "name": "stdout",
     "output_type": "stream",
     "text": [
      "Total of 154 species in the dataset.\n",
      "Total number of values: 2236\n",
      "Cutoff for low relative abundance: 0.001166668\n",
      "Cutoff for high relative abundance: 0.037556946\n",
      "\n",
      "Distribution plot:\n",
      "Total of 154 species in the dataset.\n"
     ]
    },
    {
     "name": "stderr",
     "output_type": "stream",
     "text": [
      "/Users/stebliankin/miniconda3/lib/python3.8/site-packages/seaborn/distributions.py:2551: FutureWarning: `distplot` is a deprecated function and will be removed in a future version. Please adapt your code to use either `displot` (a figure-level function with similar flexibility) or `histplot` (an axes-level function for histograms).\n",
      "  warnings.warn(msg, FutureWarning)\n",
      "<ipython-input-2-c731149d0054>:96: SettingWithCopyWarning: \n",
      "A value is trying to be set on a copy of a slice from a DataFrame.\n",
      "Try using .loc[row_indexer,col_indexer] = value instead\n",
      "\n",
      "See the caveats in the documentation: https://pandas.pydata.org/pandas-docs/stable/user_guide/indexing.html#returning-a-view-versus-a-copy\n",
      "  tmp_df[\"group\"] = tmp_df[species+\"#abundance\"].apply(lambda x: get_abundance_group(x))\n",
      "<ipython-input-2-c731149d0054>:97: SettingWithCopyWarning: \n",
      "A value is trying to be set on a copy of a slice from a DataFrame.\n",
      "Try using .loc[row_indexer,col_indexer] = value instead\n",
      "\n",
      "See the caveats in the documentation: https://pandas.pydata.org/pandas-docs/stable/user_guide/indexing.html#returning-a-view-versus-a-copy\n",
      "  tmp_df[\"Treatment\"] = tmp_df[\"Antibiotic_Treatment_unfiltered\"].apply(lambda x: get_before_after(x))\n"
     ]
    },
    {
     "data": {
      "image/png": "[encoded data removed]",
      "text/plain": [
       "<Figure size 432x288 with 1 Axes>"
      ]
     },
     "metadata": {
      "needs_background": "light"
     },
     "output_type": "display_data"
    }
   ],
   "source": [
    "def get_species_list(ptr_df):\n",
    "    columns = ptr_df.columns\n",
    "    species_list=[]\n",
    "    for col in columns:\n",
    "        if \"PTR\" in col:\n",
    "            species = col.replace(\"#PTR\", \"\")\n",
    "            species_list.append(species)\n",
    "    print(\"Total of {} species in the dataset.\".format(len(species_list)))\n",
    "    return species_list\n",
    "species_list = get_species_list(ptr_df)\n",
    "import seaborn as sns\n",
    "from matplotlib import pyplot as plt\n",
    "\n",
    "all_abundance = []\n",
    "for species in species_list:\n",
    "    tmp_df =  ptr_df[ptr_df[species+\"#PTR\"].notnull()]\n",
    "    #tmp_df = ptr_df\n",
    "    tmp_df = tmp_df[tmp_df[species+\"#abundance\"]>0]\n",
    "    all_abundance += list(tmp_df[species+\"#abundance\"])\n",
    "print(\"Total number of values: {}\".format(len(all_abundance)))\n",
    "\n",
    "sns.distplot(all_abundance)\n",
    "\n",
    "\n",
    "all_abundance_sorted = sorted(all_abundance)\n",
    "low_cutoff = all_abundance_sorted[int(len(all_abundance)*0.25)]\n",
    "high_cutoff = all_abundance_sorted[int(len(all_abundance)*0.75)]\n",
    "\n",
    "# low_cutoff = 0.001\n",
    "# high_cutoff = 0.02\n",
    "\n",
    "print(\"Cutoff for low relative abundance: {}\".format(low_cutoff))\n",
    "print(\"Cutoff for high relative abundance: {}\".format(high_cutoff))\n",
    "print(\"\")\n",
    "print(\"Distribution plot:\")\n",
    "\n",
    "from scipy.stats import ttest_ind\n",
    "import matplotlib.style as style\n",
    "import matplotlib\n",
    "import pandas as pd\n",
    "\n",
    "def high_low_prepare(PTR_file, out_all):\n",
    "    ptr_df = pd.read_csv(PTR_file, index_col=0)\n",
    "    def get_antibiotics(x):\n",
    "        try:\n",
    "            if \"TC\" in x:\n",
    "                return \"Ticarcillin-Clavulanate\"\n",
    "            elif \"Mero\" in x or \"Amp\" in x:\n",
    "                return 'Ampicillin/Meropenem'\n",
    "        except TypeError:\n",
    "            return \"Other\"\n",
    "        \n",
    "    \n",
    "    ptr_df[\"Antibiotics_group\"] = ptr_df[\"Antibiotic_Treatment_unfiltered\"].apply(lambda x: get_antibiotics(x))\n",
    "    def get_species_list(ptr_df):\n",
    "        columns = ptr_df.columns\n",
    "        species_list=[]\n",
    "        for col in columns:\n",
    "            if \"PTR\" in col:\n",
    "                species = col.replace(\"#PTR\", \"\")\n",
    "                species_list.append(species)\n",
    "        print(\"Total of {} species in the dataset.\".format(len(species_list)))\n",
    "        return species_list\n",
    "    species_list = get_species_list(ptr_df)\n",
    "    def get_abundance_group(x):\n",
    "        if x<low_cutoff:\n",
    "            return \"low\"\n",
    "        elif x>high_cutoff:\n",
    "            return \"high\"\n",
    "        else:\n",
    "            return \"medium\"\n",
    "\n",
    "    def get_before_after(x):\n",
    "        x=str(x)\n",
    "        if \"efore\" in x:\n",
    "            return \"Before\"\n",
    "        elif \"fter\" in x:\n",
    "            return \"After\"\n",
    "        else:\n",
    "            return \"Before\"\n",
    "\n",
    "    group_dict = {\"PTR\":[], \"abundance\":[], \"Abundance Level\":[], \"Cohort\":[], \"Treatment\":[], \"TreatmentType\":[], \"species\":[], \"Antibiotics_group\":[]}\n",
    "    antibiotics = [\"Gentamicin\",\"Ampicillin\",\"Meropenem\",\"Vancomycin\",\"Ticarcillin-Clavulanate\",\n",
    "                  \"r_Gentamicin\",\"r_Ampicillin\",\"r_Meropenem\",\"r_Vancomycin\",\"r_Ticarcillin-Clavulanate\"]\n",
    "    for ant in antibiotics:\n",
    "        group_dict[ant]=[]\n",
    "\n",
    "    \n",
    "    def get_groups(ptr_df):\n",
    "        for species in species_list:\n",
    "            tmp_df = ptr_df[ptr_df[species+\"#PTR\"].notnull()]\n",
    "            tmp_df[\"group\"] = tmp_df[species+\"#abundance\"].apply(lambda x: get_abundance_group(x))\n",
    "            tmp_df[\"Treatment\"] = tmp_df[\"Antibiotic_Treatment_unfiltered\"].apply(lambda x: get_before_after(x))\n",
    "            group_dict[\"PTR\"]+=list(tmp_df[species+\"#PTR\"])\n",
    "            group_dict[\"abundance\"]+=list(tmp_df[species+\"#abundance\"])\n",
    "            group_dict[\"Abundance Level\"] +=list(tmp_df[\"group\"])\n",
    "            group_dict[\"Cohort\"]+= list(tmp_df[\"Cohort\"])\n",
    "            group_dict[\"Treatment\"]+= list(tmp_df[\"Treatment\"])\n",
    "            group_dict[\"TreatmentType\"]+=list(tmp_df[\"Antibiotic_Treatment_unfiltered\"])\n",
    "            group_dict[\"species\"]+=[species for x in range(0,len(tmp_df))]\n",
    "            group_dict[\"Antibiotics_group\"]+=list(tmp_df[\"Antibiotics_group\"])\n",
    "            for ant in antibiotics:\n",
    "                group_dict[ant]+=list(tmp_df[ant])\n",
    "\n",
    "        group_df = pd.DataFrame(group_dict)\n",
    "        return group_df\n",
    "\n",
    "    # For all samples:\n",
    "    group_df = get_groups(ptr_df)\n",
    "    #group_df = group_df.fillna('noRecentTreatment')\n",
    "    group_df.to_csv(out_all, index=False)\n",
    "\n",
    "out_all = \"./analysis-out/3-Divide_High-Low/high-low.csv\"\n",
    "high_low_prepare(PTR_file, out_all)"
   ]
  }
 ],
 "metadata": {
  "kernelspec": {
   "display_name": "Python 3",
   "language": "python",
   "name": "python3"
  },
  "language_info": {
   "codemirror_mode": {
    "name": "ipython",
    "version": 3
   },
   "file_extension": ".py",
   "mimetype": "text/x-python",
   "name": "python",
   "nbconvert_exporter": "python",
   "pygments_lexer": "ipython3",
   "version": "3.8.3"
  }
 },
 "nbformat": 4,
 "nbformat_minor": 4
}
