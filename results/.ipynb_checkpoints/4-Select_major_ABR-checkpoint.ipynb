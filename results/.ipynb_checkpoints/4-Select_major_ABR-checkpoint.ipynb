{
 "cells": [
  {
   "cell_type": "markdown",
   "metadata": {},
   "source": [
    "# Supplementary Notebook 4: Select Major ABR genes\n",
    "## Paper: Novel Approach for Microbiome Analysis Using Bacterial Replication Rates and Causal Inference to Determine Resistome Potential\n",
    "### Vitalii Stebliankin, Musfiqur Sazal, Camilo Valdes, Kalai Mathee, and GiriNarasimhan\n",
    "\n",
    "#### Dataset: Gibson et al. (BioProject ID: PRJNA301903)\n",
    "\n",
    "In this notebook we will select ABR genes that present in at least 5% of the study samples"
   ]
  },
  {
   "cell_type": "code",
   "execution_count": 1,
   "metadata": {},
   "outputs": [
    {
     "name": "stdout",
     "output_type": "stream",
     "text": [
      "975\n",
      "479\n"
     ]
    }
   ],
   "source": [
    "import pandas as pd\n",
    "import seaborn as sns\n",
    "from matplotlib import pyplot as plt\n",
    "import os\n",
    "\n",
    "amr = \"B-out/ptr_amr.csv\"\n",
    "major_file=\"analysis-out/1-FilteringPTR/PTR_species_filtered_metadata_major.csv\"\n",
    "\n",
    "out_dir=\"analysis-out/4-Select_major_ABR\"\n",
    "if not os.path.exists(out_dir):\n",
    "    os.mkdir(out_dir)\n",
    "    \n",
    "out_file = out_dir+\"/PTR_species_filtered_metadata_major_AMR.csv\"\n",
    "\n",
    "\n",
    "clinical_vars = [\"Day_of_Life\", \"PostMenst_Age\", \"Gestational_Age\",\n",
    "                       \"Birthweight\", \"Gentamicin\", \"Cefazolin\",\"Ampicillin\", \"Trimethoprim.Sulfamathoxazole\", \"Meropenem\",\n",
    "                       \"Vancomycin\", \"Ticarcillin.Clavulanate\", \"Clindamycin\", \"Cefotaxime\", \"Total_abx\", \"r_Gentamicin\",\n",
    "                       \"r_Meropenem\", \"r_Ticarcillin.Clavulanate\", \"r_Vancomycin\", \"r_Ampicillin\",\n",
    "                       \"r_Cefotaxime\",\"r_TOTAL\",\"Human_Milk\",\"Maternal_Milk\", \"Donor_Milk\", \"Formula\",\"Fortification\",\"Vitamin_A\",\n",
    "                       \"Caffeine\",\"Iron\",\"Furosemide_Lasix\",\"m_ampicillin\",\"m_ceftriaxone\",\"m_azithromycin\",\n",
    "                       \"m_amoxicillin\", \"m_cefazolin\",\"m_erythromycin\",\"m_gentamicin\",\"m_penicillin\",\"m_vancomycin\",\n",
    "                       \"m_clindamycin\",\"m_cefotaxime\", \"dur_membrane_rupture\",\"Total.Antibiotic.Days\", \"Cohort\", \"CRIB.II.Score\"]\n",
    "\n",
    "threshold = 20\n",
    "#method=\"top_largest\"\n",
    "method= \"top_present\"\n",
    "\n",
    "df = pd.read_csv(amr)\n",
    "amr_dict={\"amr\":[],\"value\":[], \"nvalues\":[]}\n",
    "\n",
    "for col in df.columns:\n",
    "    if \"gb|\" in col:\n",
    "        amr_dict[\"value\"].append(df[col].mean())\n",
    "        amr_dict[\"amr\"].append(col)\n",
    "        amr_dict[\"nvalues\"].append(len(df[df[col]>0]))\n",
    "\n",
    "\n",
    "# Threshold. Top 200\n",
    "amr_sorted = sorted(amr_dict[\"value\"])\n",
    "amr_df = pd.DataFrame(amr_dict)\n",
    "print(len(amr_df))\n",
    "\n",
    "if method==\"top_largest\":\n",
    "    # Top Top 10 %:\n",
    "    top_200 = amr_sorted[-threshold]\n",
    "    #top_ten = amr_df[\"value\"].quantile(.80)\n",
    "    amr_df = amr_df[amr_df[\"value\"]>top_200]\n",
    "    amr_list = list(amr_df[\"amr\"])\n",
    "\n",
    "if method==\"top_present\":\n",
    "    amr_df = amr_df[amr_df[\"nvalues\"]>threshold]\n",
    "    amr_list = list(amr_df[\"amr\"])\n",
    "\n",
    "print(len(amr_df))\n",
    "\n",
    "new_amr_df = df[[\"sample\"]+amr_list]\n",
    "new_amr_df.index = new_amr_df[\"sample\"]\n",
    "new_amr_df = new_amr_df.drop(\"sample\", axis=1)\n",
    "new_amr_df.rename(columns=lambda x: x.replace(\"\\n\",\"\").split(\"|\")[-2] + x.replace(\"\\n\",\"\").split(\"|\")[-1], inplace=True)\n",
    "\n",
    "#new_amr_df[\"sample\"] = new_amr_df.index\n",
    "# Merge with major df:\n",
    "major_df = pd.read_csv(major_file)\n",
    "\n",
    "major_df = major_df.merge(new_amr_df, on=\"sample\", how=\"left\")\n",
    "major_df = major_df.fillna(1)\n",
    "\n",
    "cols_to_drop = [\"Clindamycin\",\"Cefotaxime\"]\n",
    "for col in cols_to_drop:\n",
    "    major_df = major_df.drop(col, axis=1)\n",
    "\n",
    "major_df = major_df.drop(\"sample\", axis=1)\n",
    "major_df = major_df.drop(\"Individual\", axis=1)\n",
    "major_df = major_df.drop(\"AveragePTR\", axis=1)\n",
    "major_df = major_df.drop(\"Cohort\", axis=1)\n",
    "major_df = major_df.drop(\"Antibiotic_Treatment\", axis=1)\n",
    "major_df = major_df.drop(\"Trimethoprim-Sulfamathoxazole\", axis=1)\n",
    "major_df = major_df.drop(\"Antibiotic_Treatment_unfiltered\", axis=1)\n",
    "\n",
    "\n",
    "\n",
    "#major_df.to_csv(out_file, index=False)\n",
    "major_df.to_csv(out_file, index=False)"
   ]
  },
  {
   "cell_type": "code",
   "execution_count": null,
   "metadata": {},
   "outputs": [],
   "source": []
  }
 ],
 "metadata": {
  "kernelspec": {
   "display_name": "Python 3",
   "language": "python",
   "name": "python3"
  },
  "language_info": {
   "codemirror_mode": {
    "name": "ipython",
    "version": 3
   },
   "file_extension": ".py",
   "mimetype": "text/x-python",
   "name": "python",
   "nbconvert_exporter": "python",
   "pygments_lexer": "ipython3",
   "version": "3.8.3"
  }
 },
 "nbformat": 4,
 "nbformat_minor": 4
}
